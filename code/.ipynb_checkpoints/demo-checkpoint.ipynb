{
 "cells": [
  {
   "cell_type": "code",
   "execution_count": 36,
   "metadata": {},
   "outputs": [],
   "source": [
    "import pandas as pd\n",
    "import mpld3, mpld3.plugins as plugins"
   ]
  },
  {
   "cell_type": "code",
   "execution_count": 5,
   "metadata": {},
   "outputs": [],
   "source": [
    "data=pd.read_csv('db/data.csv')"
   ]
  },
  {
   "cell_type": "code",
   "execution_count": 6,
   "metadata": {},
   "outputs": [
    {
     "data": {
      "text/html": [
       "<div>\n",
       "<style scoped>\n",
       "    .dataframe tbody tr th:only-of-type {\n",
       "        vertical-align: middle;\n",
       "    }\n",
       "\n",
       "    .dataframe tbody tr th {\n",
       "        vertical-align: top;\n",
       "    }\n",
       "\n",
       "    .dataframe thead th {\n",
       "        text-align: right;\n",
       "    }\n",
       "</style>\n",
       "<table border=\"1\" class=\"dataframe\">\n",
       "  <thead>\n",
       "    <tr style=\"text-align: right;\">\n",
       "      <th></th>\n",
       "      <th>timestamp</th>\n",
       "      <th>name</th>\n",
       "      <th>contactno</th>\n",
       "      <th>address</th>\n",
       "      <th>city</th>\n",
       "      <th>pincode</th>\n",
       "      <th>state</th>\n",
       "      <th>latitude</th>\n",
       "      <th>longitude</th>\n",
       "    </tr>\n",
       "  </thead>\n",
       "  <tbody>\n",
       "    <tr>\n",
       "      <th>0</th>\n",
       "      <td>1</td>\n",
       "      <td>1</td>\n",
       "      <td>1</td>\n",
       "      <td>1</td>\n",
       "      <td>1</td>\n",
       "      <td>1</td>\n",
       "      <td>1</td>\n",
       "      <td>0.00000</td>\n",
       "      <td>0.00000</td>\n",
       "    </tr>\n",
       "    <tr>\n",
       "      <th>1</th>\n",
       "      <td>10:52.</td>\n",
       "      <td>vetriselvi</td>\n",
       "      <td>9750814875</td>\n",
       "      <td>15,saraswathi plots,Officers colony 3rd street...</td>\n",
       "      <td>Chennai</td>\n",
       "      <td>600116</td>\n",
       "      <td>tamil nadu</td>\n",
       "      <td>13.03584</td>\n",
       "      <td>80.15884</td>\n",
       "    </tr>\n",
       "    <tr>\n",
       "      <th>2</th>\n",
       "      <td>11:07.</td>\n",
       "      <td>varshini</td>\n",
       "      <td>9840841496</td>\n",
       "      <td>no 3b, kaliamman koil road</td>\n",
       "      <td>chennai</td>\n",
       "      <td>600092</td>\n",
       "      <td>tamil nadu</td>\n",
       "      <td>13.06127</td>\n",
       "      <td>80.25577</td>\n",
       "    </tr>\n",
       "    <tr>\n",
       "      <th>3</th>\n",
       "      <td>2018-10-31 11:15:10.623166</td>\n",
       "      <td>Imaya</td>\n",
       "      <td>9840754812</td>\n",
       "      <td>no 9, masudi colony, 13th street</td>\n",
       "      <td>Chennai</td>\n",
       "      <td>600032</td>\n",
       "      <td>tamil nadu</td>\n",
       "      <td>12.99994</td>\n",
       "      <td>80.20867</td>\n",
       "    </tr>\n",
       "    <tr>\n",
       "      <th>4</th>\n",
       "      <td>2018-10-31 11:17:49.400305</td>\n",
       "      <td>Jerin</td>\n",
       "      <td>9840754812</td>\n",
       "      <td>no 29, ramakrishna mutt road</td>\n",
       "      <td>Chennai</td>\n",
       "      <td>600028</td>\n",
       "      <td>tamil nadu</td>\n",
       "      <td>13.03230</td>\n",
       "      <td>80.26753</td>\n",
       "    </tr>\n",
       "  </tbody>\n",
       "</table>\n",
       "</div>"
      ],
      "text/plain": [
       "                    timestamp        name   contactno  \\\n",
       "0                           1           1           1   \n",
       "1                      10:52.  vetriselvi  9750814875   \n",
       "2                      11:07.    varshini  9840841496   \n",
       "3  2018-10-31 11:15:10.623166       Imaya  9840754812   \n",
       "4  2018-10-31 11:17:49.400305       Jerin  9840754812   \n",
       "\n",
       "                                             address     city  pincode  \\\n",
       "0                                                  1        1        1   \n",
       "1  15,saraswathi plots,Officers colony 3rd street...  Chennai   600116   \n",
       "2                         no 3b, kaliamman koil road  chennai   600092   \n",
       "3                   no 9, masudi colony, 13th street  Chennai   600032   \n",
       "4                       no 29, ramakrishna mutt road  Chennai   600028   \n",
       "\n",
       "        state  latitude  longitude  \n",
       "0           1   0.00000    0.00000  \n",
       "1  tamil nadu  13.03584   80.15884  \n",
       "2  tamil nadu  13.06127   80.25577  \n",
       "3  tamil nadu  12.99994   80.20867  \n",
       "4  tamil nadu  13.03230   80.26753  "
      ]
     },
     "execution_count": 6,
     "metadata": {},
     "output_type": "execute_result"
    }
   ],
   "source": [
    "data"
   ]
  },
  {
   "cell_type": "code",
   "execution_count": 7,
   "metadata": {},
   "outputs": [],
   "source": [
    "def saveusrdata(val):\n",
    "\tdata=pd.read_csv('db/data.csv')\n",
    "\tdata_copy=data.copy()\n",
    "\tn=list(data.columns)\n",
    "\tprint(n)\n",
    "\tprint(val)\n",
    "\ta=[[],[],[],[],[],[]]\n",
    "\tfor i in range(len(val)):\n",
    "\t\ta[i]=list(data_copy[n[i]])\n",
    "\t\ta[i].append(val[i])\n",
    "# \t\tdata_copy[n[i]]=a\n",
    "\t\tprint(n[i],val[i])\n",
    "\tsub=pd.DataFrame({n[0]:a[0],n[1]:a[1],n[2]:a[2],n[3]:a[3],n[4]:a[4],n[5]:a[5]})    \n",
    "\tsub.to_csv('db/data.csv',index=False)\n",
    "\treturn \"done\""
   ]
  },
  {
   "cell_type": "code",
   "execution_count": 8,
   "metadata": {},
   "outputs": [
    {
     "name": "stdout",
     "output_type": "stream",
     "text": [
      "['timestamp', 'name', 'contactno', 'address', 'city', 'pincode', 'state', 'latitude', 'longitude']\n",
      "['5', '5', '5', '5', '5', '5']\n",
      "timestamp 5\n",
      "name 5\n",
      "contactno 5\n",
      "address 5\n",
      "city 5\n",
      "pincode 5\n",
      "render_template('userdetails.html')\n"
     ]
    }
   ],
   "source": [
    "b=saveusrdata(val=['5','5','5','5','5','5'])\n",
    "if(b==\"done\"):\n",
    "    print(\"render_template('userdetails.html')\")\n",
    "else:\n",
    "    print(\"error\")"
   ]
  },
  {
   "cell_type": "code",
   "execution_count": 9,
   "metadata": {},
   "outputs": [
    {
     "data": {
      "text/plain": [
       "{'summary': {'query': 'cbi colony main rd cbi colony kandancavadi perungudi chennai tamil nadu 600096',\n",
       "  'queryType': 'NON_NEAR',\n",
       "  'queryTime': 165,\n",
       "  'numResults': 5,\n",
       "  'offset': 0,\n",
       "  'totalResults': 5,\n",
       "  'fuzzyLevel': 2,\n",
       "  'geoBias': {'lat': 20.5937, 'lon': 78.9629}},\n",
       " 'results': [{'type': 'Street',\n",
       "   'id': 'IN/STR/p0/1243816',\n",
       "   'score': 15.815,\n",
       "   'dist': 859119.4710658065,\n",
       "   'address': {'streetName': 'CBI Colony 5th Main Road',\n",
       "    'municipalitySubdivision': 'Perungudi, Kandanchavadi, Govindasamy Nagar',\n",
       "    'municipality': 'Chennai',\n",
       "    'countrySecondarySubdivision': 'Chennai',\n",
       "    'countryTertiarySubdivision': 'Chennai',\n",
       "    'countrySubdivision': 'Tamil Nadu',\n",
       "    'postalCode': '600041',\n",
       "    'countryCode': 'IN',\n",
       "    'country': 'India',\n",
       "    'countryCodeISO3': 'IND',\n",
       "    'freeformAddress': 'CBI Colony 5th Main Road, Chennai Perungudi, Tamil Nadu, 600041'},\n",
       "   'position': {'lat': 12.96504, 'lon': 80.24258},\n",
       "   'viewport': {'topLeftPoint': {'lat': 12.96494, 'lon': 80.24311},\n",
       "    'btmRightPoint': {'lat': 12.96504, 'lon': 80.24258}}},\n",
       "  {'type': 'Cross Street',\n",
       "   'id': 'IN/XSTR/p0/78075',\n",
       "   'score': 14.862,\n",
       "   'dist': 859139.387637832,\n",
       "   'address': {'streetName': 'C B I Colony 5th Main Road & CBI Colony 5th Main Road',\n",
       "    'municipalitySubdivision': 'Perungudi, Kandanchavadi',\n",
       "    'municipality': 'Chennai',\n",
       "    'countrySecondarySubdivision': 'Chennai',\n",
       "    'countryTertiarySubdivision': 'Chennai',\n",
       "    'countrySubdivision': 'Tamil Nadu',\n",
       "    'postalCode': '600041',\n",
       "    'countryCode': 'IN',\n",
       "    'country': 'India',\n",
       "    'countryCodeISO3': 'IND',\n",
       "    'freeformAddress': 'C B I Colony 5th Main Road & CBI Colony 5th Main Road, Chennai Perungudi, Tamil Nadu, 600041'},\n",
       "   'position': {'lat': 12.96494, 'lon': 80.24311},\n",
       "   'viewport': {'topLeftPoint': {'lat': 12.96584, 'lon': 80.24219},\n",
       "    'btmRightPoint': {'lat': 12.96404, 'lon': 80.24403}}},\n",
       "  {'type': 'Cross Street',\n",
       "   'id': 'IN/XSTR/p0/78074',\n",
       "   'score': 14.862,\n",
       "   'dist': 859139.387637832,\n",
       "   'address': {'streetName': 'C B I Colony 3rd Cross Street & CBI Colony 5th Main Road',\n",
       "    'municipalitySubdivision': 'Perungudi, Kandanchavadi, Govindasamy Nagar',\n",
       "    'municipality': 'Chennai',\n",
       "    'countrySecondarySubdivision': 'Chennai',\n",
       "    'countryTertiarySubdivision': 'Chennai',\n",
       "    'countrySubdivision': 'Tamil Nadu',\n",
       "    'postalCode': '600041',\n",
       "    'countryCode': 'IN',\n",
       "    'country': 'India',\n",
       "    'countryCodeISO3': 'IND',\n",
       "    'freeformAddress': 'C B I Colony 3rd Cross Street & CBI Colony 5th Main Road, Chennai Perungudi, Tamil Nadu, 600041'},\n",
       "   'position': {'lat': 12.96494, 'lon': 80.24311},\n",
       "   'viewport': {'topLeftPoint': {'lat': 12.96584, 'lon': 80.24219},\n",
       "    'btmRightPoint': {'lat': 12.96404, 'lon': 80.24403}}},\n",
       "  {'type': 'Cross Street',\n",
       "   'id': 'IN/XSTR/p0/244220',\n",
       "   'score': 14.862,\n",
       "   'dist': 859081.376598255,\n",
       "   'address': {'streetName': 'C B I Colony Main Road & C B I Colony 2nd Main Road, CBI Colony 2nd Main Road, Veeramamunivar Street',\n",
       "    'municipalitySubdivision': 'Perungudi, Govindasamy Nagar',\n",
       "    'municipality': 'Chennai',\n",
       "    'countrySecondarySubdivision': 'Chennai',\n",
       "    'countryTertiarySubdivision': 'Chennai',\n",
       "    'countrySubdivision': 'Tamil Nadu',\n",
       "    'postalCode': '600041',\n",
       "    'countryCode': 'IN',\n",
       "    'country': 'India',\n",
       "    'countryCodeISO3': 'IND',\n",
       "    'freeformAddress': 'C B I Colony Main Road & C B I Colony 2nd Main Road, Chennai Perungudi, Tamil Nadu, 600041'},\n",
       "   'position': {'lat': 12.96572, 'lon': 80.24475},\n",
       "   'viewport': {'topLeftPoint': {'lat': 12.96662, 'lon': 80.24383},\n",
       "    'btmRightPoint': {'lat': 12.96482, 'lon': 80.24567}}},\n",
       "  {'type': 'Cross Street',\n",
       "   'id': 'IN/XSTR/p0/244223',\n",
       "   'score': 14.862,\n",
       "   'dist': 859081.376598255,\n",
       "   'address': {'streetName': 'Veeramamunivar Street, C B I Colony 2nd Main Road & C B I Colony 2nd Main Road, CBI Colony 2nd Main Road, Veeramamunivar Street',\n",
       "    'municipalitySubdivision': 'Perungudi, Govindasamy Nagar',\n",
       "    'municipality': 'Chennai',\n",
       "    'countrySecondarySubdivision': 'Chennai',\n",
       "    'countryTertiarySubdivision': 'Chennai',\n",
       "    'countrySubdivision': 'Tamil Nadu',\n",
       "    'postalCode': '600041',\n",
       "    'countryCode': 'IN',\n",
       "    'country': 'India',\n",
       "    'countryCodeISO3': 'IND',\n",
       "    'freeformAddress': 'Veeramamunivar Street & C B I Colony 2nd Main Road, Chennai Perungudi, Tamil Nadu, 600041'},\n",
       "   'position': {'lat': 12.96572, 'lon': 80.24475},\n",
       "   'viewport': {'topLeftPoint': {'lat': 12.96662, 'lon': 80.24383},\n",
       "    'btmRightPoint': {'lat': 12.96482, 'lon': 80.24567}}}]}"
      ]
     },
     "execution_count": 9,
     "metadata": {},
     "output_type": "execute_result"
    }
   ],
   "source": [
    "import requests\n",
    "import json\n",
    "# import responses\n",
    "\n",
    "api_token = 'oyq2afLK8q9KJG8yDiojI3gldjCBkkN0'\n",
    "\n",
    "# api = 'https://api.tomtom.com/map/1/staticimage?layer=basic&style=main&format=png&center=4.899886%2C%2052.379031&width=512&height=512&view=Unified&key=oyq2afLK8q9KJG8yDiojI3gldjCBkkN0'\n",
    "\n",
    "# tomtomgeo = 'https://api.tomtom.com/search/2/geocode/4 north 5th street san jose.json?countrySet=IN&lat=20.5937&lon=78.9629&topLeft=37.553%2C-122.453&btmRight=37.4%2C-122.55&key=oyq2afLK8q9KJG8yDiojI3gldjCBkkN0'\n",
    "\n",
    "tomtomgeo = 'https://api.tomtom.com/search/2/geocode/ CBI Colony Main Rd, CBI Colony, Kandancavadi, Perungudi, Chennai, Tamil Nadu 600096.json?countrySet=IN&lat=20.5937&lon=78.9629&key=oyq2afLK8q9KJG8yDiojI3gldjCBkkN0'\n",
    "\n",
    "# tomtomrevgeo = 'https://api.tomtom.com/search/2/reverseGeocode/13.05116,80.26805.json?key=oyq2afLK8q9KJG8yDiojI3gldjCBkkN0'\n",
    "\n",
    "req = requests.get(tomtomgeo)\n",
    "\n",
    "req.status_code\n",
    "\n",
    "req.json()"
   ]
  },
  {
   "cell_type": "code",
   "execution_count": 10,
   "metadata": {
    "scrolled": true
   },
   "outputs": [
    {
     "name": "stdout",
     "output_type": "stream",
     "text": [
      "12.96504 80.24258\n"
     ]
    }
   ],
   "source": [
    "a=req.json()\n",
    "lat=a['results'][0]['position']['lat']\n",
    "lon=a['results'][0]['position']['lon']\n",
    "print(lat,lon)"
   ]
  },
  {
   "cell_type": "code",
   "execution_count": 11,
   "metadata": {},
   "outputs": [
    {
     "name": "stdout",
     "output_type": "stream",
     "text": [
      "Result: 12.536948932344727\n"
     ]
    }
   ],
   "source": [
    "from math import sin, cos, sqrt, atan2, radians\n",
    "R = 6373.0\n",
    "lat1 = radians(13.05116)\n",
    "lon1 = radians(80.26808)\n",
    "lat2 = radians(13.03193)\n",
    "lon2 = radians(80.15408)\n",
    "dlon = lon2 - lon1\n",
    "dlat = lat2 - lat1\n",
    "a = sin(dlat / 2)**2 + cos(lat1) * cos(lat2) * sin(dlon / 2)**2\n",
    "c = 2 * atan2(sqrt(a), sqrt(1 - a))\n",
    "distance = R * c\n",
    "print(\"Result:\", distance)"
   ]
  },
  {
   "cell_type": "code",
   "execution_count": 12,
   "metadata": {},
   "outputs": [],
   "source": [
    "# data['name'][0]"
   ]
  },
  {
   "cell_type": "markdown",
   "metadata": {},
   "source": [
    "13.05374\t80.22596\n",
    "13.18482\t80.30737\n",
    "13.11297\t80.25123\n",
    "19.87651\t75.35496"
   ]
  },
  {
   "cell_type": "code",
   "execution_count": 13,
   "metadata": {},
   "outputs": [],
   "source": [
    "from math import sin, cos, sqrt, atan2, radians\n",
    "\n",
    "\n",
    "def km(lat1,lon1,lat2,lon2):\n",
    "    R = 6373.0\n",
    "    lat1 = radians(lat1)\n",
    "    lon1 = radians(lon1)\n",
    "    lat2 = radians(lat2)\n",
    "    lon2 = radians(lon2)\n",
    "    dlon = lon2 - lon1\n",
    "    dlat = lat2 - lat1\n",
    "    a = sin(dlat / 2)**2 + cos(lat1) * cos(lat2) * sin(dlon / 2)**2\n",
    "    c = 2 * atan2(sqrt(a), sqrt(1 - a))\n",
    "    distance = R * c\n",
    "    distance=round(distance,2)\n",
    "#     print(\"Result:\", distance)\n",
    "    return distance"
   ]
  },
  {
   "cell_type": "code",
   "execution_count": 14,
   "metadata": {},
   "outputs": [],
   "source": [
    "import tsp"
   ]
  },
  {
   "cell_type": "code",
   "execution_count": 15,
   "metadata": {},
   "outputs": [],
   "source": [
    "name=['a','b','c','d','e']\n",
    "lat=[12.95832,13.03584,13.06127,12.99994,13.03230]\n",
    "lon=[80.25608,80.15884,80.25577,80.20867,80.26753]"
   ]
  },
  {
   "cell_type": "code",
   "execution_count": 26,
   "metadata": {},
   "outputs": [],
   "source": [
    "a=[]\n",
    "for i in range(len(name)):\n",
    "    b=[]\n",
    "    for j in range(len(name)):\n",
    "        b.append(name[i]+name[j])\n",
    "        if(name[j]==name[-1]):\n",
    "            a.append(b)\n",
    "            break"
   ]
  },
  {
   "cell_type": "code",
   "execution_count": 27,
   "metadata": {},
   "outputs": [
    {
     "data": {
      "text/plain": [
       "[['aa', 'ab', 'ac', 'ad', 'ae'],\n",
       " ['ba', 'bb', 'bc', 'bd', 'be'],\n",
       " ['ca', 'cb', 'cc', 'cd', 'ce'],\n",
       " ['da', 'db', 'dc', 'dd', 'de'],\n",
       " ['ea', 'eb', 'ec', 'ed', 'ee']]"
      ]
     },
     "execution_count": 27,
     "metadata": {},
     "output_type": "execute_result"
    }
   ],
   "source": [
    "a"
   ]
  },
  {
   "cell_type": "code",
   "execution_count": 18,
   "metadata": {},
   "outputs": [],
   "source": [
    "a1=[]\n",
    "for i in range(len(lat)):\n",
    "    b1=[]\n",
    "    for j in range(len(lat)):\n",
    "        k=km(lat1=lat[i],lon1=lon[i],lat2=lat[j],lon2=lon[j])\n",
    "        b1.append(k)\n",
    "        if(j==len(lat)-1):\n",
    "            a1.append(b1)\n",
    "            break"
   ]
  },
  {
   "cell_type": "code",
   "execution_count": 19,
   "metadata": {},
   "outputs": [
    {
     "data": {
      "text/plain": [
       "(0.0, 13.62, 11.45, 6.92, 8.32)"
      ]
     },
     "execution_count": 19,
     "metadata": {},
     "output_type": "execute_result"
    }
   ],
   "source": [
    "a1\n",
    "0.0, 13.62, 11.45, 6.92, 8.32"
   ]
  },
  {
   "cell_type": "code",
   "execution_count": 20,
   "metadata": {},
   "outputs": [
    {
     "name": "stdout",
     "output_type": "stream",
     "text": [
      "(36.31, [0, 3, 1, 2, 4])\n"
     ]
    }
   ],
   "source": [
    "r = range(len(a1))\n",
    "dist = {(i, j): a1[i][j] for i in r for j in r}\n",
    "print(tsp.tsp(r, dist))\n",
    "path=tsp.tsp(r, dist)"
   ]
  },
  {
   "cell_type": "code",
   "execution_count": 21,
   "metadata": {},
   "outputs": [
    {
     "data": {
      "text/plain": [
       "44.63"
      ]
     },
     "execution_count": 21,
     "metadata": {},
     "output_type": "execute_result"
    }
   ],
   "source": [
    "path[0]+a1[4][0]"
   ]
  },
  {
   "cell_type": "code",
   "execution_count": 22,
   "metadata": {},
   "outputs": [
    {
     "name": "stdout",
     "output_type": "stream",
     "text": [
      "a\n",
      "d\n",
      "b\n",
      "c\n",
      "e\n"
     ]
    }
   ],
   "source": [
    "for i in path[1]:\n",
    "    print(name[i])"
   ]
  },
  {
   "cell_type": "code",
   "execution_count": 23,
   "metadata": {},
   "outputs": [
    {
     "name": "stdout",
     "output_type": "stream",
     "text": [
      "0\n",
      "1\n",
      "2\n",
      "3\n",
      "4\n"
     ]
    }
   ],
   "source": [
    "import matplotlib.pyplot as plt\n",
    "fig, ax = plt.subplots()\n",
    "ax.scatter(lat, lon)\n",
    "# n=['way-1','way-2','way-3','way-4']\n",
    "\n",
    "for i, txt in enumerate(name):\n",
    "    ax.annotate(txt, (lat[i], lon[i]))\n",
    "for i in range(len(path[1])):\n",
    "    print(i)\n",
    "    if(i!=len(path[1])-1):\n",
    "        ax.plot([lat[int(path[1][i])],lat[int(path[1][i+1])]],[lon[int(path[1][i])],lon[int(path[1][i+1])]])\n",
    "#         ax.annotate(name[i]+name[i+1],\n",
    "        a=lat[int(path[1][i])]+lat[int(path[1][i+1])]\n",
    "        a=a/2\n",
    "        b=lon[int(path[1][i])]+lon[int(path[1][i+1])]\n",
    "        b=b/2\n",
    "        plt.text(a,b,str(i))\n",
    "#         mpld3.show()\n",
    "#         break\n",
    "    else:\n",
    "        ax.plot([lat[int(path[1][i])],lat[int(path[1][0])]],[lon[int(path[1][i])],lon[int(path[1][0])]])\n",
    "        a=lat[int(path[1][i])]+lat[int(path[1][0])]\n",
    "        a=a/2\n",
    "        b=lon[int(path[1][i])]+lon[int(path[1][0])]\n",
    "        b=b/2\n",
    "        plt.text(a,b,str(i))\n",
    "#         mpld3.show()"
   ]
  },
  {
   "cell_type": "code",
   "execution_count": 24,
   "metadata": {},
   "outputs": [
    {
     "data": {
      "text/plain": [
       "6.51615"
      ]
     },
     "execution_count": 24,
     "metadata": {},
     "output_type": "execute_result"
    }
   ],
   "source": [
    "lat[int(path[1][i])]/2"
   ]
  },
  {
   "cell_type": "code",
   "execution_count": 37,
   "metadata": {},
   "outputs": [
    {
     "name": "stdout",
     "output_type": "stream",
     "text": [
      "\n",
      "Note: if you're in the IPython notebook, mpld3.show() is not the best command\n",
      "      to use. Consider using mpld3.display(), or mpld3.enable_notebook().\n",
      "      See more information at http://mpld3.github.io/quickstart.html .\n",
      "\n",
      "You must interrupt the kernel to end this command\n",
      "\n",
      "Serving to http://127.0.0.1:8889/    [Ctrl-C to exit]\n"
     ]
    },
    {
     "name": "stderr",
     "output_type": "stream",
     "text": [
      "127.0.0.1 - - [31/Oct/2018 17:55:25] \"GET / HTTP/1.1\" 200 -\n",
      "127.0.0.1 - - [31/Oct/2018 17:55:25] \"GET /d3.js HTTP/1.1\" 200 -\n",
      "127.0.0.1 - - [31/Oct/2018 17:55:25] code 404, message Not Found\n",
      "127.0.0.1 - - [31/Oct/2018 17:55:25] \"GET /favicon.ico HTTP/1.1\" 404 -\n",
      "127.0.0.1 - - [31/Oct/2018 17:55:25] \"GET /mpld3.js HTTP/1.1\" 200 -\n"
     ]
    },
    {
     "name": "stdout",
     "output_type": "stream",
     "text": [
      "\n",
      "stopping Server...\n"
     ]
    },
    {
     "data": {
      "image/png": "[encoded data removed]",
      "text/plain": [
       "<Figure size 432x288 with 1 Axes>"
      ]
     },
     "metadata": {},
     "output_type": "display_data"
    }
   ],
   "source": [
    "\n",
    "# n=['way-1','way-2','way-3','way-4']\n",
    "\n",
    "fig, ax = plt.subplots()\n",
    "ax.scatter(lat, lon)\n",
    "# n=['way-1','way-2','way-3','way-4']\n",
    "\n",
    "for i, txt in enumerate(name):\n",
    "    ax.annotate(txt, (lat[i], lon[i]))\n",
    "\n",
    "for i in range(len(lat)):\n",
    "    for j in range(len(lon)):\n",
    "#         ax.plot([lat[int(path[1][i])],lat[int(path[1][i+1])]],[lon[int(path[1][i])],lon[int(path[1][i+1])]])\n",
    "#         if(j==len(lon)-1):\n",
    "        ax.plot([lat[i],lat[j]],[lon[i],lon[j]])\n",
    "        a=lat[i]+lat[j]\n",
    "        b=lon[i]+lon[j]\n",
    "        k=km(lat1=lat[i],lon1=lon[i],lat2=lat[j],lon2=lon[j])\n",
    "        if(k!=0):\n",
    "            plt.text(a/2,b/2,str(k)+'km')\n",
    "mpld3.show()"
   ]
  },
  {
   "cell_type": "code",
   "execution_count": null,
   "metadata": {},
   "outputs": [],
   "source": []
  },
  {
   "cell_type": "code",
   "execution_count": null,
   "metadata": {},
   "outputs": [],
   "source": []
  }
 ],
 "metadata": {
  "kernelspec": {
   "display_name": "Python 3",
   "language": "python",
   "name": "python3"
  },
  "language_info": {
   "codemirror_mode": {
    "name": "ipython",
    "version": 3
   },
   "file_extension": ".py",
   "mimetype": "text/x-python",
   "name": "python",
   "nbconvert_exporter": "python",
   "pygments_lexer": "ipython3",
   "version": "3.6.5"
  }
 },
 "nbformat": 4,
 "nbformat_minor": 2
}
