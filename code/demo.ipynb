{
 "cells": [
  {
   "cell_type": "code",
   "execution_count": 48,
   "metadata": {},
   "outputs": [],
   "source": [
    "import pandas as pd"
   ]
  },
  {
   "cell_type": "code",
   "execution_count": 49,
   "metadata": {},
   "outputs": [],
   "source": [
    "data=pd.read_csv('db/data.csv')"
   ]
  },
  {
   "cell_type": "code",
   "execution_count": 7,
   "metadata": {},
   "outputs": [
    {
     "data": {
      "text/html": [
       "<div>\n",
       "<style scoped>\n",
       "    .dataframe tbody tr th:only-of-type {\n",
       "        vertical-align: middle;\n",
       "    }\n",
       "\n",
       "    .dataframe tbody tr th {\n",
       "        vertical-align: top;\n",
       "    }\n",
       "\n",
       "    .dataframe thead th {\n",
       "        text-align: right;\n",
       "    }\n",
       "</style>\n",
       "<table border=\"1\" class=\"dataframe\">\n",
       "  <thead>\n",
       "    <tr style=\"text-align: right;\">\n",
       "      <th></th>\n",
       "      <th>timestamp</th>\n",
       "      <th>name</th>\n",
       "      <th>contactno</th>\n",
       "      <th>address</th>\n",
       "      <th>pincode</th>\n",
       "      <th>state</th>\n",
       "    </tr>\n",
       "  </thead>\n",
       "  <tbody>\n",
       "    <tr>\n",
       "      <th>0</th>\n",
       "      <td>1</td>\n",
       "      <td>2</td>\n",
       "      <td>3</td>\n",
       "      <td>4</td>\n",
       "      <td>5</td>\n",
       "      <td>6</td>\n",
       "    </tr>\n",
       "  </tbody>\n",
       "</table>\n",
       "</div>"
      ],
      "text/plain": [
       "   timestamp  name  contactno  address  pincode  state\n",
       "0          1     2          3        4        5      6"
      ]
     },
     "execution_count": 7,
     "metadata": {},
     "output_type": "execute_result"
    }
   ],
   "source": [
    "data"
   ]
  },
  {
   "cell_type": "code",
   "execution_count": 28,
   "metadata": {},
   "outputs": [],
   "source": [
    "def saveusrdata(val):\n",
    "\tdata=pd.read_csv('db/data.csv')\n",
    "\tdata_copy=data.copy()\n",
    "\tn=list(data.columns)\n",
    "\tprint(n)\n",
    "\tprint(val)\n",
    "\ta=[[],[],[],[],[],[]]\n",
    "\tfor i in range(len(val)):\n",
    "\t\ta[i]=list(data_copy[n[i]])\n",
    "\t\ta[i].append(val[i])\n",
    "# \t\tdata_copy[n[i]]=a\n",
    "\t\tprint(n[i],val[i])\n",
    "\tsub=pd.DataFrame({n[0]:a[0],n[1]:a[1],n[2]:a[2],n[3]:a[3],n[4]:a[4],n[5]:a[5]})    \n",
    "\tsub.to_csv('db/data.csv',index=False)\n",
    "\treturn \"done\""
   ]
  },
  {
   "cell_type": "code",
   "execution_count": 29,
   "metadata": {},
   "outputs": [
    {
     "name": "stdout",
     "output_type": "stream",
     "text": [
      "['timestamp', 'name', 'contactno', 'address', 'pincode', 'state']\n",
      "['5', '5', '5', '5', '5', '5']\n",
      "timestamp 5\n",
      "name 5\n",
      "contactno 5\n",
      "address 5\n",
      "pincode 5\n",
      "state 5\n",
      "render_template('userdetails.html')\n"
     ]
    }
   ],
   "source": [
    "b=saveusrdata(val=['5','5','5','5','5','5'])\n",
    "if(b==\"done\"):\n",
    "    print(\"render_template('userdetails.html')\")\n",
    "else:\n",
    "    print(\"error\")"
   ]
  },
  {
   "cell_type": "code",
   "execution_count": 46,
   "metadata": {},
   "outputs": [
    {
     "data": {
      "text/plain": [
       "{'query': '600011',\n",
       " 'queryType': 'NON_NEAR',\n",
       " 'queryTime': 43,\n",
       " 'numResults': 10,\n",
       " 'offset': 0,\n",
       " 'totalResults': 7469,\n",
       " 'fuzzyLevel': 1,\n",
       " 'geoBias': {'lat': 20.5937, 'lon': 78.9629}}"
      ]
     },
     "execution_count": 46,
     "metadata": {},
     "output_type": "execute_result"
    }
   ],
   "source": [
    "import requests\n",
    "import json\n",
    "# import responses\n",
    "\n",
    "api_token = 'oyq2afLK8q9KJG8yDiojI3gldjCBkkN0'\n",
    "\n",
    "api = 'https://api.tomtom.com/map/1/staticimage?layer=basic&style=main&format=png&center=4.899886%2C%2052.379031&width=512&height=512&view=Unified&key=oyq2afLK8q9KJG8yDiojI3gldjCBkkN0'\n",
    "\n",
    "# tomtomgeo = 'https://api.tomtom.com/search/2/geocode/4 north 5th street san jose.json?countrySet=IN&lat=20.5937&lon=78.9629&topLeft=37.553%2C-122.453&btmRight=37.4%2C-122.55&key=oyq2afLK8q9KJG8yDiojI3gldjCBkkN0'\n",
    "\n",
    "tomtomgeo = 'https://api.tomtom.com/search/2/geocode/600011.json?countrySet=IN&lat=20.5937&lon=78.9629&key=oyq2afLK8q9KJG8yDiojI3gldjCBkkN0'\n",
    "\n",
    "# tomtomrevgeo = 'https://api.tomtom.com/search/2/reverseGeocode/13.05116,80.26805.json?key=oyq2afLK8q9KJG8yDiojI3gldjCBkkN0'\n",
    "\n",
    "requests = requests.get(tomtomgeo)\n",
    "\n",
    "requests.status_code\n",
    "\n",
    "a=requests.json()\n",
    "# print(a)\n",
    "a['summary']"
   ]
  },
  {
   "cell_type": "code",
   "execution_count": 47,
   "metadata": {},
   "outputs": [
    {
     "name": "stdout",
     "output_type": "stream",
     "text": [
      "13.12638 80.22826\n"
     ]
    }
   ],
   "source": [
    "a=requests.json()\n",
    "lat=a['results'][1]['position']['lat']\n",
    "lon=a['results'][1]['position']['lon']\n",
    "print(lat,lon)"
   ]
  },
  {
   "cell_type": "code",
   "execution_count": 37,
   "metadata": {},
   "outputs": [
    {
     "name": "stdout",
     "output_type": "stream",
     "text": [
      "Result: 12.536948932344727\n"
     ]
    }
   ],
   "source": [
    "from math import sin, cos, sqrt, atan2, radians\n",
    "R = 6373.0\n",
    "lat1 = radians(13.05116)\n",
    "lon1 = radians(80.26808)\n",
    "lat2 = radians(13.03193)\n",
    "lon2 = radians(80.15408)\n",
    "dlon = lon2 - lon1\n",
    "dlat = lat2 - lat1\n",
    "a = sin(dlat / 2)**2 + cos(lat1) * cos(lat2) * sin(dlon / 2)**2\n",
    "c = 2 * atan2(sqrt(a), sqrt(1 - a))\n",
    "distance = R * c\n",
    "print(\"Result:\", distance)"
   ]
  },
  {
   "cell_type": "code",
   "execution_count": 53,
   "metadata": {},
   "outputs": [
    {
     "data": {
      "text/plain": [
       "'1'"
      ]
     },
     "execution_count": 53,
     "metadata": {},
     "output_type": "execute_result"
    }
   ],
   "source": [
    "data['name'][0]"
   ]
  },
  {
   "cell_type": "code",
   "execution_count": null,
   "metadata": {},
   "outputs": [],
   "source": []
  }
 ],
 "metadata": {
  "kernelspec": {
   "display_name": "Python 3",
   "language": "python",
   "name": "python3"
  },
  "language_info": {
   "codemirror_mode": {
    "name": "ipython",
    "version": 3
   },
   "file_extension": ".py",
   "mimetype": "text/x-python",
   "name": "python",
   "nbconvert_exporter": "python",
   "pygments_lexer": "ipython3",
   "version": "3.6.5"
  }
 },
 "nbformat": 4,
 "nbformat_minor": 2
}
