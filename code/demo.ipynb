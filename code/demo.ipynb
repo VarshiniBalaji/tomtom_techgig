{
 "cells": [
  {
   "cell_type": "code",
   "execution_count": 1,
   "metadata": {},
   "outputs": [],
   "source": [
    "import pandas as pd"
   ]
  },
  {
   "cell_type": "code",
   "execution_count": 6,
   "metadata": {},
   "outputs": [],
   "source": [
    "data=pd.read_csv('db/data.csv')"
   ]
  },
  {
   "cell_type": "code",
   "execution_count": 7,
   "metadata": {},
   "outputs": [
    {
     "data": {
      "text/html": [
       "<div>\n",
       "<style scoped>\n",
       "    .dataframe tbody tr th:only-of-type {\n",
       "        vertical-align: middle;\n",
       "    }\n",
       "\n",
       "    .dataframe tbody tr th {\n",
       "        vertical-align: top;\n",
       "    }\n",
       "\n",
       "    .dataframe thead th {\n",
       "        text-align: right;\n",
       "    }\n",
       "</style>\n",
       "<table border=\"1\" class=\"dataframe\">\n",
       "  <thead>\n",
       "    <tr style=\"text-align: right;\">\n",
       "      <th></th>\n",
       "      <th>timestamp</th>\n",
       "      <th>name</th>\n",
       "      <th>contactno</th>\n",
       "      <th>address</th>\n",
       "      <th>pincode</th>\n",
       "      <th>state</th>\n",
       "    </tr>\n",
       "  </thead>\n",
       "  <tbody>\n",
       "    <tr>\n",
       "      <th>0</th>\n",
       "      <td>1</td>\n",
       "      <td>2</td>\n",
       "      <td>3</td>\n",
       "      <td>4</td>\n",
       "      <td>5</td>\n",
       "      <td>6</td>\n",
       "    </tr>\n",
       "  </tbody>\n",
       "</table>\n",
       "</div>"
      ],
      "text/plain": [
       "   timestamp  name  contactno  address  pincode  state\n",
       "0          1     2          3        4        5      6"
      ]
     },
     "execution_count": 7,
     "metadata": {},
     "output_type": "execute_result"
    }
   ],
   "source": [
    "data"
   ]
  },
  {
   "cell_type": "code",
   "execution_count": 28,
   "metadata": {},
   "outputs": [],
   "source": [
    "def saveusrdata(val):\n",
    "\tdata=pd.read_csv('db/data.csv')\n",
    "\tdata_copy=data.copy()\n",
    "\tn=list(data.columns)\n",
    "\tprint(n)\n",
    "\tprint(val)\n",
    "\ta=[[],[],[],[],[],[]]\n",
    "\tfor i in range(len(val)):\n",
    "\t\ta[i]=list(data_copy[n[i]])\n",
    "\t\ta[i].append(val[i])\n",
    "# \t\tdata_copy[n[i]]=a\n",
    "\t\tprint(n[i],val[i])\n",
    "\tsub=pd.DataFrame({n[0]:a[0],n[1]:a[1],n[2]:a[2],n[3]:a[3],n[4]:a[4],n[5]:a[5]})    \n",
    "\tsub.to_csv('db/data.csv',index=False)\n",
    "\treturn \"done\""
   ]
  },
  {
   "cell_type": "code",
   "execution_count": 29,
   "metadata": {},
   "outputs": [
    {
     "name": "stdout",
     "output_type": "stream",
     "text": [
      "['timestamp', 'name', 'contactno', 'address', 'pincode', 'state']\n",
      "['5', '5', '5', '5', '5', '5']\n",
      "timestamp 5\n",
      "name 5\n",
      "contactno 5\n",
      "address 5\n",
      "pincode 5\n",
      "state 5\n",
      "render_template('userdetails.html')\n"
     ]
    }
   ],
   "source": [
    "b=saveusrdata(val=['5','5','5','5','5','5'])\n",
    "if(b==\"done\"):\n",
    "    print(\"render_template('userdetails.html')\")\n",
    "else:\n",
    "    print(\"error\")"
   ]
  },
  {
   "cell_type": "code",
   "execution_count": null,
   "metadata": {},
   "outputs": [],
   "source": []
  }
 ],
 "metadata": {
  "kernelspec": {
   "display_name": "Python 3",
   "language": "python",
   "name": "python3"
  },
  "language_info": {
   "codemirror_mode": {
    "name": "ipython",
    "version": 3
   },
   "file_extension": ".py",
   "mimetype": "text/x-python",
   "name": "python",
   "nbconvert_exporter": "python",
   "pygments_lexer": "ipython3",
   "version": "3.6.5"
  }
 },
 "nbformat": 4,
 "nbformat_minor": 2
}
